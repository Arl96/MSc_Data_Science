{
 "cells": [
  {
   "cell_type": "markdown",
   "metadata": {
    "id": "FXi2XBWWJ1my"
   },
   "source": [
    "# **Coursework: Programming for Data Science (20COP504)**"
   ]
  },
  {
   "cell_type": "markdown",
   "metadata": {
    "id": "85x0M8_sJ6ex"
   },
   "source": [
    "## **Coursework 2 (60%)**"
   ]
  },
  {
   "cell_type": "markdown",
   "metadata": {
    "id": "jzMs4ZX1J96Z"
   },
   "source": [
    "In this coursework, you will analyse a publicly available dataset named IMDB-Movie-Data. This is a\n",
    "data set of 1,000 most popular movies on IMDB in the last 10 years. The data points included are Title,\n",
    "Genre, Description, Director, Actors, Year, Runtime, Rating, Votes, Revenue, Metascore.\n",
    "\n",
    "Go to https://www.kaggle.com/PromptCloudHQ/imdb-data and download the IMDB-MovieData.csv."
   ]
  },
  {
   "cell_type": "markdown",
   "metadata": {
    "id": "2BRTprzsKHPs"
   },
   "source": [
    "**1.1**\n",
    "\n",
    "(1) Read the data into a DataFrame called movies and get the number of columns and rows. "
   ]
  },
  {
   "cell_type": "code",
   "execution_count": 1,
   "metadata": {
    "colab": {
     "base_uri": "https://localhost:8080/"
    },
    "id": "F-ZEpt0FKL6y",
    "outputId": "e2e1c72f-2e88-4d3f-e450-3b6e3c6de71c"
   },
   "outputs": [
    {
     "name": "stdout",
     "output_type": "stream",
     "text": [
      "columns: 12\n",
      "rows: 1000\n"
     ]
    }
   ],
   "source": [
    "# import relevant libraries\n",
    "import pandas as pd\n",
    "import numpy as np\n",
    "import matplotlib.pyplot as plt\n",
    "\n",
    "# read data into dataframe\n",
    "movies = pd.read_csv('IMDB-Movie-Data.csv')\n",
    "\n",
    "# get number of columns and rows\n",
    "print(\"columns:\", movies.shape[1])\n",
    "print(\"rows:\", movies.shape[0])"
   ]
  },
  {
   "cell_type": "markdown",
   "metadata": {
    "id": "fnhAFBV8a_Nr"
   },
   "source": [
    "(2) Get the minimum, maximum, and mean value of each numerical column. "
   ]
  },
  {
   "cell_type": "code",
   "execution_count": 2,
   "metadata": {
    "colab": {
     "base_uri": "https://localhost:8080/"
    },
    "id": "5O2ADfedbAAc",
    "outputId": "127ab24d-9fb0-41b2-81a2-02eefb83b657"
   },
   "outputs": [
    {
     "name": "stdout",
     "output_type": "stream",
     "text": [
      "MINIMUM VALUES:\n",
      "Rank                     1.0\n",
      "Year                  2006.0\n",
      "Runtime (Minutes)       66.0\n",
      "Rating                   1.9\n",
      "Votes                   61.0\n",
      "Revenue (Millions)       0.0\n",
      "Metascore               11.0\n",
      "dtype: float64\n",
      "\n",
      "\n",
      "MAXIMUM VALUES:\n",
      "Rank                     1000.00\n",
      "Year                     2016.00\n",
      "Runtime (Minutes)         191.00\n",
      "Rating                      9.00\n",
      "Votes                 1791916.00\n",
      "Revenue (Millions)        936.63\n",
      "Metascore                 100.00\n",
      "dtype: float64\n",
      "\n",
      "\n",
      "MEAN VALUES:\n",
      "Rank                     500.500000\n",
      "Year                    2012.783000\n",
      "Runtime (Minutes)        113.172000\n",
      "Rating                     6.723200\n",
      "Votes                 169808.255000\n",
      "Revenue (Millions)        82.956376\n",
      "Metascore                 58.985043\n",
      "dtype: float64\n"
     ]
    }
   ],
   "source": [
    "# function to check if element in array is numeric, from \n",
    "# https://stackoverflow.com/questions/37996471/element-wise-test-of-numpy-array-is-numeric\n",
    "def isnumeric(s):\n",
    "    try:\n",
    "        float(s)\n",
    "        return True\n",
    "    except ValueError:\n",
    "        return False\n",
    "\n",
    "# make list to get column names\n",
    "cols = []\n",
    "for col in movies:\n",
    "  cols.append(col)\n",
    "\n",
    "# get names of numerical columns\n",
    "numerical_cols = []  \n",
    "for col in cols:\n",
    "  if isnumeric(movies[col][0]) == True:\n",
    "    numerical_cols.append(col)\n",
    "\n",
    "# get min, max, and mean values for numerical cols\n",
    "min_values = movies[numerical_cols].min()\n",
    "max_values = movies[numerical_cols].max()\n",
    "mean_values = movies[numerical_cols].mean()\n",
    "\n",
    "# print min, max, and mean values for numerical cols\n",
    "print('MINIMUM VALUES:')\n",
    "print(min_values)\n",
    "print(\"\\n\")\n",
    "print('MAXIMUM VALUES:')\n",
    "print(max_values)\n",
    "print(\"\\n\")\n",
    "print('MEAN VALUES:')\n",
    "print(mean_values)"
   ]
  },
  {
   "cell_type": "markdown",
   "metadata": {
    "id": "gB-qMpmyrowf"
   },
   "source": [
    "(3) Rename Runtime (Minutes) to Runtime_Minutes and revenue (Millions) to Revenue_Millions, respectively"
   ]
  },
  {
   "cell_type": "code",
   "execution_count": 3,
   "metadata": {
    "colab": {
     "base_uri": "https://localhost:8080/",
     "height": 547
    },
    "id": "rhLWyYNWrtWB",
    "outputId": "23964f7c-c61c-4878-bd0c-8d19efc6153b"
   },
   "outputs": [
    {
     "data": {
      "text/html": [
       "<div>\n",
       "<style scoped>\n",
       "    .dataframe tbody tr th:only-of-type {\n",
       "        vertical-align: middle;\n",
       "    }\n",
       "\n",
       "    .dataframe tbody tr th {\n",
       "        vertical-align: top;\n",
       "    }\n",
       "\n",
       "    .dataframe thead th {\n",
       "        text-align: right;\n",
       "    }\n",
       "</style>\n",
       "<table border=\"1\" class=\"dataframe\">\n",
       "  <thead>\n",
       "    <tr style=\"text-align: right;\">\n",
       "      <th></th>\n",
       "      <th>Rank</th>\n",
       "      <th>Title</th>\n",
       "      <th>Genre</th>\n",
       "      <th>Description</th>\n",
       "      <th>Director</th>\n",
       "      <th>Actors</th>\n",
       "      <th>Year</th>\n",
       "      <th>Runtime_Minutes</th>\n",
       "      <th>Rating</th>\n",
       "      <th>Votes</th>\n",
       "      <th>Revenue_Millions</th>\n",
       "      <th>Metascore</th>\n",
       "    </tr>\n",
       "  </thead>\n",
       "  <tbody>\n",
       "    <tr>\n",
       "      <th>0</th>\n",
       "      <td>1</td>\n",
       "      <td>Guardians of the Galaxy</td>\n",
       "      <td>Action,Adventure,Sci-Fi</td>\n",
       "      <td>A group of intergalactic criminals are forced ...</td>\n",
       "      <td>James Gunn</td>\n",
       "      <td>Chris Pratt, Vin Diesel, Bradley Cooper, Zoe S...</td>\n",
       "      <td>2014</td>\n",
       "      <td>121</td>\n",
       "      <td>8.1</td>\n",
       "      <td>757074</td>\n",
       "      <td>333.13</td>\n",
       "      <td>76.0</td>\n",
       "    </tr>\n",
       "    <tr>\n",
       "      <th>1</th>\n",
       "      <td>2</td>\n",
       "      <td>Prometheus</td>\n",
       "      <td>Adventure,Mystery,Sci-Fi</td>\n",
       "      <td>Following clues to the origin of mankind, a te...</td>\n",
       "      <td>Ridley Scott</td>\n",
       "      <td>Noomi Rapace, Logan Marshall-Green, Michael Fa...</td>\n",
       "      <td>2012</td>\n",
       "      <td>124</td>\n",
       "      <td>7.0</td>\n",
       "      <td>485820</td>\n",
       "      <td>126.46</td>\n",
       "      <td>65.0</td>\n",
       "    </tr>\n",
       "    <tr>\n",
       "      <th>2</th>\n",
       "      <td>3</td>\n",
       "      <td>Split</td>\n",
       "      <td>Horror,Thriller</td>\n",
       "      <td>Three girls are kidnapped by a man with a diag...</td>\n",
       "      <td>M. Night Shyamalan</td>\n",
       "      <td>James McAvoy, Anya Taylor-Joy, Haley Lu Richar...</td>\n",
       "      <td>2016</td>\n",
       "      <td>117</td>\n",
       "      <td>7.3</td>\n",
       "      <td>157606</td>\n",
       "      <td>138.12</td>\n",
       "      <td>62.0</td>\n",
       "    </tr>\n",
       "    <tr>\n",
       "      <th>3</th>\n",
       "      <td>4</td>\n",
       "      <td>Sing</td>\n",
       "      <td>Animation,Comedy,Family</td>\n",
       "      <td>In a city of humanoid animals, a hustling thea...</td>\n",
       "      <td>Christophe Lourdelet</td>\n",
       "      <td>Matthew McConaughey,Reese Witherspoon, Seth Ma...</td>\n",
       "      <td>2016</td>\n",
       "      <td>108</td>\n",
       "      <td>7.2</td>\n",
       "      <td>60545</td>\n",
       "      <td>270.32</td>\n",
       "      <td>59.0</td>\n",
       "    </tr>\n",
       "    <tr>\n",
       "      <th>4</th>\n",
       "      <td>5</td>\n",
       "      <td>Suicide Squad</td>\n",
       "      <td>Action,Adventure,Fantasy</td>\n",
       "      <td>A secret government agency recruits some of th...</td>\n",
       "      <td>David Ayer</td>\n",
       "      <td>Will Smith, Jared Leto, Margot Robbie, Viola D...</td>\n",
       "      <td>2016</td>\n",
       "      <td>123</td>\n",
       "      <td>6.2</td>\n",
       "      <td>393727</td>\n",
       "      <td>325.02</td>\n",
       "      <td>40.0</td>\n",
       "    </tr>\n",
       "  </tbody>\n",
       "</table>\n",
       "</div>"
      ],
      "text/plain": [
       "   Rank                    Title                     Genre  \\\n",
       "0     1  Guardians of the Galaxy   Action,Adventure,Sci-Fi   \n",
       "1     2               Prometheus  Adventure,Mystery,Sci-Fi   \n",
       "2     3                    Split           Horror,Thriller   \n",
       "3     4                     Sing   Animation,Comedy,Family   \n",
       "4     5            Suicide Squad  Action,Adventure,Fantasy   \n",
       "\n",
       "                                         Description              Director  \\\n",
       "0  A group of intergalactic criminals are forced ...            James Gunn   \n",
       "1  Following clues to the origin of mankind, a te...          Ridley Scott   \n",
       "2  Three girls are kidnapped by a man with a diag...    M. Night Shyamalan   \n",
       "3  In a city of humanoid animals, a hustling thea...  Christophe Lourdelet   \n",
       "4  A secret government agency recruits some of th...            David Ayer   \n",
       "\n",
       "                                              Actors  Year  Runtime_Minutes  \\\n",
       "0  Chris Pratt, Vin Diesel, Bradley Cooper, Zoe S...  2014              121   \n",
       "1  Noomi Rapace, Logan Marshall-Green, Michael Fa...  2012              124   \n",
       "2  James McAvoy, Anya Taylor-Joy, Haley Lu Richar...  2016              117   \n",
       "3  Matthew McConaughey,Reese Witherspoon, Seth Ma...  2016              108   \n",
       "4  Will Smith, Jared Leto, Margot Robbie, Viola D...  2016              123   \n",
       "\n",
       "   Rating   Votes  Revenue_Millions  Metascore  \n",
       "0     8.1  757074            333.13       76.0  \n",
       "1     7.0  485820            126.46       65.0  \n",
       "2     7.3  157606            138.12       62.0  \n",
       "3     7.2   60545            270.32       59.0  \n",
       "4     6.2  393727            325.02       40.0  "
      ]
     },
     "execution_count": 3,
     "metadata": {},
     "output_type": "execute_result"
    }
   ],
   "source": [
    "# rename columns\n",
    "movies.rename(columns={'Runtime (Minutes)': 'Runtime_Minutes'}, inplace=True)\n",
    "movies.rename(columns={'Revenue (Millions)': 'Revenue_Millions'}, inplace=True)\n",
    "\n",
    "# check to see if cols renamed\n",
    "movies.head()"
   ]
  },
  {
   "cell_type": "markdown",
   "metadata": {
    "id": "w2wKNSntsMro"
   },
   "source": [
    "**1.2**"
   ]
  },
  {
   "cell_type": "markdown",
   "metadata": {
    "id": "4LcSpgcasQup"
   },
   "source": [
    "Find all null values in the DataFrame movies. Fill the null values with the mean value of the\n",
    "corresponding column and produce a cleaned DataFrame called clean_movies. Please note that all\n",
    "the following tasks will be using clean_movies. "
   ]
  },
  {
   "cell_type": "code",
   "execution_count": 4,
   "metadata": {
    "colab": {
     "base_uri": "https://localhost:8080/"
    },
    "id": "G-Wh6yiXsrs_",
    "outputId": "ae5c6d59-6370-4025-8327-ac7409ce128a"
   },
   "outputs": [
    {
     "name": "stdout",
     "output_type": "stream",
     "text": [
      "Rank                  0\n",
      "Title                 0\n",
      "Genre                 0\n",
      "Description           0\n",
      "Director              0\n",
      "Actors                0\n",
      "Year                  0\n",
      "Runtime_Minutes       0\n",
      "Rating                0\n",
      "Votes                 0\n",
      "Revenue_Millions    128\n",
      "Metascore            64\n",
      "dtype: int64\n",
      "\n",
      "\n",
      "Rank                0\n",
      "Title               0\n",
      "Genre               0\n",
      "Description         0\n",
      "Director            0\n",
      "Actors              0\n",
      "Year                0\n",
      "Runtime_Minutes     0\n",
      "Rating              0\n",
      "Votes               0\n",
      "Revenue_Millions    0\n",
      "Metascore           0\n",
      "dtype: int64\n"
     ]
    }
   ],
   "source": [
    "# declare new dataframe to be used\n",
    "clean_movies = movies\n",
    "\n",
    "# count number of NA values in each column\n",
    "print(movies.isnull().sum())\n",
    "\n",
    "# loop through dataframe, changing NA values to mean\n",
    "for col in clean_movies:\n",
    "  # check if column is numeric\n",
    "  if isnumeric(clean_movies[col][0]) == True:\n",
    "    # col names have changed since means were calculated, so need to write \n",
    "    # exception for theses cases\n",
    "    if col == 'Runtime_Minutes':\n",
    "      clean_movies[col].fillna(mean_values['Runtime (Minutes)'], inplace = True)\n",
    "    # if col names are same as before, change NA values\n",
    "    elif col == 'Revenue_Millions':\n",
    "      clean_movies[col].fillna(mean_values['Revenue (Millions)'], inplace = True)\n",
    "    else:\n",
    "      clean_movies[col].fillna(mean_values[col], inplace = True)\n",
    "\n",
    "# count number of NA values in each column of new dataframe\n",
    "print(\"\\n\")\n",
    "print(clean_movies.isnull().sum())"
   ]
  },
  {
   "cell_type": "markdown",
   "metadata": {
    "id": "3mEKr6WU2bOs"
   },
   "source": [
    "**1.3**\n"
   ]
  },
  {
   "cell_type": "markdown",
   "metadata": {
    "id": "BW4XHUN22wR7"
   },
   "source": [
    "Create a histogram to illustrate the distribution of the Runtime. Please set the bin size to 10. "
   ]
  },
  {
   "cell_type": "code",
   "execution_count": 5,
   "metadata": {
    "colab": {
     "base_uri": "https://localhost:8080/",
     "height": 295
    },
    "id": "AnvepoAH2ykc",
    "outputId": "6168b6ba-a457-444e-b8ab-038141ecd859"
   },
   "outputs": [
    {
     "data": {
      "image/png": "[encoded data removed]",
      "text/plain": [
       "<Figure size 432x288 with 1 Axes>"
      ]
     },
     "metadata": {
      "needs_background": "light"
     },
     "output_type": "display_data"
    }
   ],
   "source": [
    "# create histogram, with bins of size 10\n",
    "plt.hist(x=clean_movies.Runtime_Minutes, bins=range(60, 200, 10), zorder=4)\n",
    "\n",
    "# add labels and title\n",
    "plt.title(\"Distribution of runtimes for the previous decade's top 1000 movies\")\n",
    "plt.xlabel('Runtime (minutes)')\n",
    "plt.ylabel('Number of movies')\n",
    "plt.grid(axis='y', zorder=0)"
   ]
  },
  {
   "cell_type": "markdown",
   "metadata": {
    "id": "ZUF9W8GL8Cnr"
   },
   "source": [
    "**1.4**"
   ]
  },
  {
   "cell_type": "markdown",
   "metadata": {
    "id": "34DFfPvV8GXh"
   },
   "source": [
    "Rank the Directors according to their average Rating. Select the top ten Directors and draw a proper\n",
    "chart to compare their average Rating. "
   ]
  },
  {
   "cell_type": "code",
   "execution_count": 6,
   "metadata": {
    "colab": {
     "base_uri": "https://localhost:8080/",
     "height": 664
    },
    "id": "jGV74rrE8Kv7",
    "outputId": "64aef338-66b7-4cdd-c8ce-b0331a4cb7dd"
   },
   "outputs": [
    {
     "name": "stdout",
     "output_type": "stream",
     "text": [
      "Director\n",
      "Nitesh Tiwari                       8.80\n",
      "Christopher Nolan                   8.68\n",
      "Makoto Shinkai                      8.60\n",
      "Olivier Nakache                     8.60\n",
      "Aamir Khan                          8.50\n",
      "Florian Henckel von Donnersmarck    8.50\n",
      "Naoko Yamada                        8.40\n",
      "Damien Chazelle                     8.40\n",
      "Lee Unkrich                         8.30\n",
      "S.S. Rajamouli                      8.30\n",
      "Name: Rating, dtype: float64\n"
     ]
    },
    {
     "data": {
      "image/png": "[encoded data removed]",
      "text/plain": [
       "<Figure size 432x288 with 1 Axes>"
      ]
     },
     "metadata": {
      "needs_background": "light"
     },
     "output_type": "display_data"
    }
   ],
   "source": [
    "# make dataframe containing average rating for directors\n",
    "clean_movie_directors = clean_movies.groupby('Director')['Rating'].mean()\n",
    "# sort by director average rating\n",
    "clean_movie_directors = clean_movie_directors.sort_values(ascending = False)\n",
    "\n",
    "# select top 10 directors\n",
    "top_directors = clean_movie_directors.head(10)\n",
    "\n",
    "# print top ten directors\n",
    "print(top_directors)\n",
    "\n",
    "# create plot\n",
    "top_directors.plot(kind='bar', zorder=3)\n",
    "\n",
    "# add titles and labels\n",
    "plt.title(\"Top ten movie directors and their average ratings\")\n",
    "plt.xlabel('Director')\n",
    "plt.ylabel('Rating')\n",
    "\n",
    "# improve aesthetics\n",
    "plt.ylim(8.2, 8.9)\n",
    "plt.grid(axis='y', zorder=0)\n",
    "\n",
    "# show plot\n",
    "plt.show()"
   ]
  },
  {
   "cell_type": "markdown",
   "metadata": {
    "id": "3WGRy74qHAwu"
   },
   "source": [
    "**1.5**"
   ]
  },
  {
   "cell_type": "markdown",
   "metadata": {
    "id": "OkF2pU9RHDRJ"
   },
   "source": [
    "(1) Use NumPy to generate three random integers as indices. "
   ]
  },
  {
   "cell_type": "code",
   "execution_count": 7,
   "metadata": {
    "colab": {
     "base_uri": "https://localhost:8080/"
    },
    "id": "BBYHxryPHLlm",
    "outputId": "e4d9ce21-ab6a-4ee7-a3f8-4256e6f0293f"
   },
   "outputs": [
    {
     "name": "stdout",
     "output_type": "stream",
     "text": [
      "[564, 502, 215]\n"
     ]
    }
   ],
   "source": [
    "# create empty list to store indeces\n",
    "indeces = []\n",
    "# loop through 3 times to get 3 indeces\n",
    "for i in range(3):\n",
    "  indeces.append(np.random.randint(0, 1000))\n",
    "\n",
    "#print indeces\n",
    "print(indeces)"
   ]
  },
  {
   "cell_type": "markdown",
   "metadata": {
    "id": "dAuh3WspIXEj"
   },
   "source": [
    "(2) Use the generated three indices to select the corresponding three Directors. "
   ]
  },
  {
   "cell_type": "code",
   "execution_count": 8,
   "metadata": {
    "colab": {
     "base_uri": "https://localhost:8080/"
    },
    "id": "m_cTmbUEIaYh",
    "outputId": "8b15ee08-039d-44cc-b08d-f23291c997f5"
   },
   "outputs": [
    {
     "name": "stdout",
     "output_type": "stream",
     "text": [
      "['Rupert Sanders', 'Daniel Ragussis', 'Alex Proyas']\n"
     ]
    }
   ],
   "source": [
    "# select director of movies corresponding to the indeces\n",
    "random_directors = clean_movies.iloc[indeces][['Director']]\n",
    "\n",
    "# turn directors into list for easier analysis\n",
    "# declare empty list\n",
    "directors_list = []\n",
    "\n",
    "# loop through random_directors dataframe, assigning each director to list\n",
    "for i in range(len(random_directors)):\n",
    "  directors_list.append(random_directors.iloc[i,0])\n",
    "\n",
    "# show the 3 directors\n",
    "print(directors_list)"
   ]
  },
  {
   "cell_type": "markdown",
   "metadata": {
    "id": "LPVaha-cIcN4"
   },
   "source": [
    "(3) Calculate the annual Metascore of the selected three Directors. "
   ]
  },
  {
   "cell_type": "code",
   "execution_count": 9,
   "metadata": {
    "colab": {
     "base_uri": "https://localhost:8080/"
    },
    "id": "W14nbVoSIekf",
    "outputId": "fb1a3695-ae39-4ce2-b0bf-151d4641bbad"
   },
   "outputs": [
    {
     "name": "stdout",
     "output_type": "stream",
     "text": [
      "                     Metascore\n",
      "Year Director                 \n",
      "2012 Rupert Sanders       57.0\n",
      "\n",
      "\n",
      "                      Metascore\n",
      "Year Director                  \n",
      "2016 Daniel Ragussis       68.0\n",
      "\n",
      "\n",
      "                  Metascore\n",
      "Year Director              \n",
      "2016 Alex Proyas       25.0\n"
     ]
    }
   ],
   "source": [
    "# create dataframe for each direcor in driectors_list\n",
    "director0 = clean_movies[clean_movies['Director'] == directors_list[0]]\n",
    "director1 = clean_movies[clean_movies['Director'] == directors_list[1]]\n",
    "director2 = clean_movies[clean_movies['Director'] == directors_list[2]]\n",
    "\n",
    "# get metascore for each year for each director\n",
    "annual_meta0 = director0.groupby(['Year', 'Director'])[['Metascore']].mean()\n",
    "annual_meta1 = director1.groupby(['Year', 'Director'])[['Metascore']].mean()\n",
    "annual_meta2 = director2.groupby(['Year', 'Director'])[['Metascore']].mean()\n",
    "\n",
    "# show annual metascore for the 3 directors\n",
    "print(annual_meta0)\n",
    "print(\"\\n\")\n",
    "print(annual_meta1)\n",
    "print(\"\\n\")\n",
    "print(annual_meta2)"
   ]
  },
  {
   "cell_type": "markdown",
   "metadata": {
    "id": "X1Cn6o9qIhAR"
   },
   "source": [
    "(4) Use three subplots to illustrate their Metascore by year. The range of the x-axis should be from\n",
    "2006 to 2016. "
   ]
  },
  {
   "cell_type": "code",
   "execution_count": 10,
   "metadata": {
    "colab": {
     "base_uri": "https://localhost:8080/",
     "height": 760
    },
    "id": "aK6slqQ6ImK5",
    "outputId": "39b0499a-5686-472c-8b0a-4a32a2b51013"
   },
   "outputs": [
    {
     "data": {
      "text/plain": [
       "(2005.0, 2017.0)"
      ]
     },
     "execution_count": 10,
     "metadata": {},
     "output_type": "execute_result"
    },
    {
     "data": {
      "image/png": "[encoded data removed]",
      "text/plain": [
       "<Figure size 360x720 with 3 Axes>"
      ]
     },
     "metadata": {
      "needs_background": "light"
     },
     "output_type": "display_data"
    }
   ],
   "source": [
    "# set up subplot grid\n",
    "fig, (ax0, ax1, ax2) = plt.subplots(3,1, sharex=True, sharey=True, figsize=(5,10))\n",
    "\n",
    "# plot director 0\n",
    "ax0.bar(list(director0['Year']), list(annual_meta0['Metascore']))\n",
    "# add title\n",
    "ax0.set_title(directors_list[0] + \"'s annual metascores by year\")\n",
    "\n",
    "# plot director 1\n",
    "ax1.bar(list(director1['Year']), list(annual_meta1['Metascore']))\n",
    "# add title\n",
    "ax1.set_title(directors_list[1] + \"'s annual metascores by year\")\n",
    "\n",
    "# plot director 2\n",
    "ax2.bar(list(director2['Year']), list(annual_meta2['Metascore']))\n",
    "# add title\n",
    "ax2.set_title(directors_list[2] + \"'s annual metascores by year\")\n",
    "\n",
    "# improve aesthetics\n",
    "plt.tight_layout()\n",
    "ax2.set_xlabel('Year')\n",
    "ax1.set_ylabel('Mean metascore')\n",
    "# I limited axis to 2005-2017 to see bars more clearly\n",
    "ax2.set_xlim(2005, 2017)"
   ]
  },
  {
   "cell_type": "markdown",
   "metadata": {
    "id": "yJ_b0wz2InyN"
   },
   "source": [
    "**1.6**"
   ]
  },
  {
   "cell_type": "markdown",
   "metadata": {
    "id": "cOax5bCwIn7u"
   },
   "source": [
    "Use Revenue and Metascore to select samples that satisfy some conditions (the selection should\n",
    "include three conditional operators and two logical operators). Based on the selected samples, draw\n",
    "a scatter chart to show the relationship between Revenue and Metascore. "
   ]
  },
  {
   "cell_type": "code",
   "execution_count": 11,
   "metadata": {
    "colab": {
     "base_uri": "https://localhost:8080/",
     "height": 312
    },
    "id": "U-0Ek1XZIzK4",
    "outputId": "e1e2fb2c-5e57-4e19-df08-4f3856410763"
   },
   "outputs": [
    {
     "data": {
      "text/plain": [
       "Text(0.5, 0, 'Metascore')"
      ]
     },
     "execution_count": 11,
     "metadata": {},
     "output_type": "execute_result"
    },
    {
     "data": {
      "image/png": "[encoded data removed]",
      "text/plain": [
       "<Figure size 432x288 with 1 Axes>"
      ]
     },
     "metadata": {
      "needs_background": "light"
     },
     "output_type": "display_data"
    }
   ],
   "source": [
    "# Get mean values for metascore and revenue\n",
    "mean_revenue = float(mean_values['Revenue (Millions)'])\n",
    "mean_metascore = float(mean_values.Metascore)\n",
    "\n",
    "# Get high revenue movies at either end of metascore spectrum\n",
    "money_makers = clean_movies[(clean_movies['Revenue_Millions'] > mean_revenue) & \n",
    "             ((clean_movies['Metascore'] < mean_metascore - 20) | \n",
    "             (clean_movies['Metascore'] > mean_metascore + 20))]\n",
    "\n",
    "# scatter plot data\n",
    "ax = money_makers.plot(x='Metascore', y='Revenue_Millions', kind='scatter')\n",
    "\n",
    "# add title, labels\n",
    "ax.set_title('Revenue for highest and lowest metascore movies')\n",
    "ax.set_ylabel(\"Revenue (millions)\")\n",
    "ax.set_xlabel(\"Metascore\")"
   ]
  },
  {
   "cell_type": "markdown",
   "metadata": {
    "id": "LDzF_I4JI1RL"
   },
   "source": [
    "**1.7**"
   ]
  },
  {
   "cell_type": "markdown",
   "metadata": {
    "id": "eabVOaVHI7fJ"
   },
   "source": [
    "Use NumPy to generate 30 random integers from 0 to 1000. Use the generated 30 integers as indices\n",
    "and extract relative rows from the DataFrame clean_movies.\n",
    "\n",
    "Draw a chart to present the relationship between Year and Votes. Please use Year as the x-axis and\n",
    "Votes as the y-axis. The range of the x-axis should be from 2006 to 2016. \n"
   ]
  },
  {
   "cell_type": "code",
   "execution_count": 12,
   "metadata": {
    "colab": {
     "base_uri": "https://localhost:8080/",
     "height": 349
    },
    "id": "8DdR8CifI9ZC",
    "outputId": "969ec5ab-9f17-446e-852b-e6bf21a345cd"
   },
   "outputs": [
    {
     "name": "stdout",
     "output_type": "stream",
     "text": [
      "[77, 256, 240, 341, 898, 755, 463, 133, 919, 408, 5, 363, 829, 36, 617, 525, 20, 187, 733, 168, 568, 305, 836, 602, 330, 537, 858, 198, 82, 607]\n"
     ]
    },
    {
     "data": {
      "text/plain": [
       "(2005.9, 2016.1)"
      ]
     },
     "execution_count": 12,
     "metadata": {},
     "output_type": "execute_result"
    },
    {
     "data": {
      "image/png": "[encoded data removed]",
      "text/plain": [
       "<Figure size 432x288 with 1 Axes>"
      ]
     },
     "metadata": {
      "needs_background": "light"
     },
     "output_type": "display_data"
    }
   ],
   "source": [
    "# create empty list to store indeces\n",
    "indeces2 = []\n",
    "# loop through 30 times to get 30 indeces\n",
    "for i in range(30):\n",
    "  indeces2.append(np.random.randint(0, 1000))\n",
    "\n",
    "#print indeces\n",
    "print(indeces2)\n",
    "\n",
    "# select rows in clean_movies corresponding to the indeces\n",
    "rows = clean_movies.iloc[indeces2]\n",
    "rows = rows.groupby('Year').sum()\n",
    "\n",
    "# convert votes to thousands of votes\n",
    "rows['thousands_votes'] = rows['Votes'] / 1000\n",
    "\n",
    "# plot votes against year\n",
    "ax = rows['thousands_votes'].plot()\n",
    "\n",
    "# add labels\n",
    "ax.set_title('How number of votes has changed over time')\n",
    "ax.set_ylabel(\"Thousands of votes\")\n",
    "ax.set_xlabel(\"Year\")\n",
    "\n",
    "# limit axes\n",
    "ax.set_xlim(2005.9, 2016.1)"
   ]
  }
 ],
 "metadata": {
  "colab": {
   "collapsed_sections": [],
   "name": "20COP504_CW2.ipynb",
   "provenance": []
  },
  "kernelspec": {
   "display_name": "Python 3",
   "language": "python",
   "name": "python3"
  },
  "language_info": {
   "codemirror_mode": {
    "name": "ipython",
    "version": 3
   },
   "file_extension": ".py",
   "mimetype": "text/x-python",
   "name": "python",
   "nbconvert_exporter": "python",
   "pygments_lexer": "ipython3",
   "version": "3.8.3"
  }
 },
 "nbformat": 4,
 "nbformat_minor": 1
}
