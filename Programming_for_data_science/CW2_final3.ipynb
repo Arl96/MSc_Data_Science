{
  "nbformat": 4,
  "nbformat_minor": 0,
  "metadata": {
    "colab": {
      "name": "CW2_final3.ipynb",
      "provenance": [],
      "collapsed_sections": []
    },
    "kernelspec": {
      "display_name": "Python 3",
      "language": "python",
      "name": "python3"
    },
    "language_info": {
      "codemirror_mode": {
        "name": "ipython",
        "version": 3
      },
      "file_extension": ".py",
      "mimetype": "text/x-python",
      "name": "python",
      "nbconvert_exporter": "python",
      "pygments_lexer": "ipython3",
      "version": "3.8.3"
    }
  },
  "cells": [
    {
      "cell_type": "markdown",
      "metadata": {
        "id": "FXi2XBWWJ1my"
      },
      "source": [
        "# **Coursework: Programming for Data Science (20COP504)**"
      ]
    },
    {
      "cell_type": "markdown",
      "metadata": {
        "id": "85x0M8_sJ6ex"
      },
      "source": [
        "## **Coursework 2 (60%)**"
      ]
    },
    {
      "cell_type": "markdown",
      "metadata": {
        "id": "jzMs4ZX1J96Z"
      },
      "source": [
        "In this coursework, you will analyse a publicly available dataset named IMDB-Movie-Data. This is a\n",
        "data set of 1,000 most popular movies on IMDB in the last 10 years. The data points included are Title,\n",
        "Genre, Description, Director, Actors, Year, Runtime, Rating, Votes, Revenue, Metascore.\n",
        "\n",
        "Go to https://www.kaggle.com/PromptCloudHQ/imdb-data and download the IMDB-MovieData.csv."
      ]
    },
    {
      "cell_type": "markdown",
      "metadata": {
        "id": "2BRTprzsKHPs"
      },
      "source": [
        "**1.1**\n",
        "\n",
        "(1) Read the data into a DataFrame called movies and get the number of columns and rows. "
      ]
    },
    {
      "cell_type": "code",
      "metadata": {
        "colab": {
          "base_uri": "https://localhost:8080/"
        },
        "id": "F-ZEpt0FKL6y",
        "outputId": "34932fc2-2464-4032-aa46-02729304bc08"
      },
      "source": [
        "# import relevant libraries\n",
        "import pandas as pd\n",
        "import numpy as np\n",
        "import matplotlib.pyplot as plt\n",
        "\n",
        "# read data into dataframe\n",
        "movies = pd.read_csv('IMDB-Movie-Data.csv')\n",
        "\n",
        "# get number of columns and rows\n",
        "print(\"columns:\", movies.shape[1])\n",
        "print(\"rows:\", movies.shape[0])"
      ],
      "execution_count": 143,
      "outputs": [
        {
          "output_type": "stream",
          "text": [
            "columns: 12\n",
            "rows: 1000\n"
          ],
          "name": "stdout"
        }
      ]
    },
    {
      "cell_type": "markdown",
      "metadata": {
        "id": "fnhAFBV8a_Nr"
      },
      "source": [
        "(2) Get the minimum, maximum, and mean value of each numerical column. "
      ]
    },
    {
      "cell_type": "code",
      "metadata": {
        "colab": {
          "base_uri": "https://localhost:8080/"
        },
        "id": "5O2ADfedbAAc",
        "outputId": "751d7499-d8d7-49cf-b191-77f2085131f1"
      },
      "source": [
        "# function to check if element in array is numeric, from \n",
        "# https://stackoverflow.com/questions/37996471/element-wise-test-of-numpy-array-is-numeric\n",
        "def isnumeric(s):\n",
        "    try:\n",
        "        float(s)\n",
        "        return True\n",
        "    except ValueError:\n",
        "        return False\n",
        "\n",
        "# make list to get column names\n",
        "cols = []\n",
        "for col in movies:\n",
        "  cols.append(col)\n",
        "\n",
        "# get names of numerical columns\n",
        "numerical_cols = []  \n",
        "for col in cols:\n",
        "  if isnumeric(movies[col][0]) == True:\n",
        "    numerical_cols.append(col)\n",
        "\n",
        "# get min, max, and mean values for numerical cols\n",
        "min_values = movies[numerical_cols].min()\n",
        "max_values = movies[numerical_cols].max()\n",
        "mean_values = movies[numerical_cols].mean()\n",
        "\n",
        "# print min, max, and mean values for numerical cols\n",
        "print('MINIMUM VALUES:')\n",
        "print(min_values)\n",
        "print(\"\\n\")\n",
        "print('MAXIMUM VALUES:')\n",
        "print(max_values)\n",
        "print(\"\\n\")\n",
        "print('MEAN VALUES:')\n",
        "print(mean_values)"
      ],
      "execution_count": 144,
      "outputs": [
        {
          "output_type": "stream",
          "text": [
            "MINIMUM VALUES:\n",
            "Rank                     1.0\n",
            "Year                  2006.0\n",
            "Runtime (Minutes)       66.0\n",
            "Rating                   1.9\n",
            "Votes                   61.0\n",
            "Revenue (Millions)       0.0\n",
            "Metascore               11.0\n",
            "dtype: float64\n",
            "\n",
            "\n",
            "MAXIMUM VALUES:\n",
            "Rank                     1000.00\n",
            "Year                     2016.00\n",
            "Runtime (Minutes)         191.00\n",
            "Rating                      9.00\n",
            "Votes                 1791916.00\n",
            "Revenue (Millions)        936.63\n",
            "Metascore                 100.00\n",
            "dtype: float64\n",
            "\n",
            "\n",
            "MEAN VALUES:\n",
            "Rank                     500.500000\n",
            "Year                    2012.783000\n",
            "Runtime (Minutes)        113.172000\n",
            "Rating                     6.723200\n",
            "Votes                 169808.255000\n",
            "Revenue (Millions)        82.956376\n",
            "Metascore                 58.985043\n",
            "dtype: float64\n"
          ],
          "name": "stdout"
        }
      ]
    },
    {
      "cell_type": "markdown",
      "metadata": {
        "id": "gB-qMpmyrowf"
      },
      "source": [
        "(3) Rename Runtime (Minutes) to Runtime_Minutes and revenue (Millions) to Revenue_Millions, respectively"
      ]
    },
    {
      "cell_type": "code",
      "metadata": {
        "colab": {
          "base_uri": "https://localhost:8080/",
          "height": 547
        },
        "id": "rhLWyYNWrtWB",
        "outputId": "10f6de9e-fbdd-470b-de3d-37ed20d2f91b"
      },
      "source": [
        "# rename columns\n",
        "movies.rename(columns={'Runtime (Minutes)': 'Runtime_Minutes'}, inplace=True)\n",
        "movies.rename(columns={'Revenue (Millions)': 'Revenue_Millions'}, inplace=True)\n",
        "\n",
        "# check to see if cols renamed\n",
        "movies.head()"
      ],
      "execution_count": 145,
      "outputs": [
        {
          "output_type": "execute_result",
          "data": {
            "text/html": [
              "<div>\n",
              "<style scoped>\n",
              "    .dataframe tbody tr th:only-of-type {\n",
              "        vertical-align: middle;\n",
              "    }\n",
              "\n",
              "    .dataframe tbody tr th {\n",
              "        vertical-align: top;\n",
              "    }\n",
              "\n",
              "    .dataframe thead th {\n",
              "        text-align: right;\n",
              "    }\n",
              "</style>\n",
              "<table border=\"1\" class=\"dataframe\">\n",
              "  <thead>\n",
              "    <tr style=\"text-align: right;\">\n",
              "      <th></th>\n",
              "      <th>Rank</th>\n",
              "      <th>Title</th>\n",
              "      <th>Genre</th>\n",
              "      <th>Description</th>\n",
              "      <th>Director</th>\n",
              "      <th>Actors</th>\n",
              "      <th>Year</th>\n",
              "      <th>Runtime_Minutes</th>\n",
              "      <th>Rating</th>\n",
              "      <th>Votes</th>\n",
              "      <th>Revenue_Millions</th>\n",
              "      <th>Metascore</th>\n",
              "    </tr>\n",
              "  </thead>\n",
              "  <tbody>\n",
              "    <tr>\n",
              "      <th>0</th>\n",
              "      <td>1</td>\n",
              "      <td>Guardians of the Galaxy</td>\n",
              "      <td>Action,Adventure,Sci-Fi</td>\n",
              "      <td>A group of intergalactic criminals are forced ...</td>\n",
              "      <td>James Gunn</td>\n",
              "      <td>Chris Pratt, Vin Diesel, Bradley Cooper, Zoe S...</td>\n",
              "      <td>2014</td>\n",
              "      <td>121</td>\n",
              "      <td>8.1</td>\n",
              "      <td>757074</td>\n",
              "      <td>333.13</td>\n",
              "      <td>76.0</td>\n",
              "    </tr>\n",
              "    <tr>\n",
              "      <th>1</th>\n",
              "      <td>2</td>\n",
              "      <td>Prometheus</td>\n",
              "      <td>Adventure,Mystery,Sci-Fi</td>\n",
              "      <td>Following clues to the origin of mankind, a te...</td>\n",
              "      <td>Ridley Scott</td>\n",
              "      <td>Noomi Rapace, Logan Marshall-Green, Michael Fa...</td>\n",
              "      <td>2012</td>\n",
              "      <td>124</td>\n",
              "      <td>7.0</td>\n",
              "      <td>485820</td>\n",
              "      <td>126.46</td>\n",
              "      <td>65.0</td>\n",
              "    </tr>\n",
              "    <tr>\n",
              "      <th>2</th>\n",
              "      <td>3</td>\n",
              "      <td>Split</td>\n",
              "      <td>Horror,Thriller</td>\n",
              "      <td>Three girls are kidnapped by a man with a diag...</td>\n",
              "      <td>M. Night Shyamalan</td>\n",
              "      <td>James McAvoy, Anya Taylor-Joy, Haley Lu Richar...</td>\n",
              "      <td>2016</td>\n",
              "      <td>117</td>\n",
              "      <td>7.3</td>\n",
              "      <td>157606</td>\n",
              "      <td>138.12</td>\n",
              "      <td>62.0</td>\n",
              "    </tr>\n",
              "    <tr>\n",
              "      <th>3</th>\n",
              "      <td>4</td>\n",
              "      <td>Sing</td>\n",
              "      <td>Animation,Comedy,Family</td>\n",
              "      <td>In a city of humanoid animals, a hustling thea...</td>\n",
              "      <td>Christophe Lourdelet</td>\n",
              "      <td>Matthew McConaughey,Reese Witherspoon, Seth Ma...</td>\n",
              "      <td>2016</td>\n",
              "      <td>108</td>\n",
              "      <td>7.2</td>\n",
              "      <td>60545</td>\n",
              "      <td>270.32</td>\n",
              "      <td>59.0</td>\n",
              "    </tr>\n",
              "    <tr>\n",
              "      <th>4</th>\n",
              "      <td>5</td>\n",
              "      <td>Suicide Squad</td>\n",
              "      <td>Action,Adventure,Fantasy</td>\n",
              "      <td>A secret government agency recruits some of th...</td>\n",
              "      <td>David Ayer</td>\n",
              "      <td>Will Smith, Jared Leto, Margot Robbie, Viola D...</td>\n",
              "      <td>2016</td>\n",
              "      <td>123</td>\n",
              "      <td>6.2</td>\n",
              "      <td>393727</td>\n",
              "      <td>325.02</td>\n",
              "      <td>40.0</td>\n",
              "    </tr>\n",
              "  </tbody>\n",
              "</table>\n",
              "</div>"
            ],
            "text/plain": [
              "   Rank                    Title  ... Revenue_Millions Metascore\n",
              "0     1  Guardians of the Galaxy  ...           333.13      76.0\n",
              "1     2               Prometheus  ...           126.46      65.0\n",
              "2     3                    Split  ...           138.12      62.0\n",
              "3     4                     Sing  ...           270.32      59.0\n",
              "4     5            Suicide Squad  ...           325.02      40.0\n",
              "\n",
              "[5 rows x 12 columns]"
            ]
          },
          "metadata": {
            "tags": []
          },
          "execution_count": 145
        }
      ]
    },
    {
      "cell_type": "markdown",
      "metadata": {
        "id": "w2wKNSntsMro"
      },
      "source": [
        "**1.2**"
      ]
    },
    {
      "cell_type": "markdown",
      "metadata": {
        "id": "4LcSpgcasQup"
      },
      "source": [
        "Find all null values in the DataFrame movies. Fill the null values with the mean value of the\n",
        "corresponding column and produce a cleaned DataFrame called clean_movies. Please note that all\n",
        "the following tasks will be using clean_movies. "
      ]
    },
    {
      "cell_type": "code",
      "metadata": {
        "colab": {
          "base_uri": "https://localhost:8080/"
        },
        "id": "G-Wh6yiXsrs_",
        "outputId": "ffb1c123-e5a5-4d27-d9ee-ceb6460c91f5"
      },
      "source": [
        "# declare new dataframe to be used\n",
        "clean_movies = movies\n",
        "\n",
        "# count number of NA values in each column\n",
        "print(movies.isnull().sum())\n",
        "\n",
        "# loop through dataframe, changing NA values to mean\n",
        "for col in clean_movies:\n",
        "  # check if column is numeric\n",
        "  if isnumeric(clean_movies[col][0]) == True:\n",
        "    # col names have changed since means were calculated, so need to write \n",
        "    # exception for theses cases\n",
        "    if col == 'Runtime_Minutes':\n",
        "      clean_movies[col].fillna(mean_values['Runtime (Minutes)'], inplace = True)\n",
        "    # if col names are same as before, change NA values\n",
        "    elif col == 'Revenue_Millions':\n",
        "      clean_movies[col].fillna(mean_values['Revenue (Millions)'], inplace = True)\n",
        "    else:\n",
        "      clean_movies[col].fillna(mean_values[col], inplace = True)\n",
        "\n",
        "# count number of NA values in each column of new dataframe\n",
        "print(\"\\n\")\n",
        "print(clean_movies.isnull().sum())"
      ],
      "execution_count": 146,
      "outputs": [
        {
          "output_type": "stream",
          "text": [
            "Rank                  0\n",
            "Title                 0\n",
            "Genre                 0\n",
            "Description           0\n",
            "Director              0\n",
            "Actors                0\n",
            "Year                  0\n",
            "Runtime_Minutes       0\n",
            "Rating                0\n",
            "Votes                 0\n",
            "Revenue_Millions    128\n",
            "Metascore            64\n",
            "dtype: int64\n",
            "\n",
            "\n",
            "Rank                0\n",
            "Title               0\n",
            "Genre               0\n",
            "Description         0\n",
            "Director            0\n",
            "Actors              0\n",
            "Year                0\n",
            "Runtime_Minutes     0\n",
            "Rating              0\n",
            "Votes               0\n",
            "Revenue_Millions    0\n",
            "Metascore           0\n",
            "dtype: int64\n"
          ],
          "name": "stdout"
        }
      ]
    },
    {
      "cell_type": "markdown",
      "metadata": {
        "id": "3mEKr6WU2bOs"
      },
      "source": [
        "**1.3**\n"
      ]
    },
    {
      "cell_type": "markdown",
      "metadata": {
        "id": "BW4XHUN22wR7"
      },
      "source": [
        "Create a histogram to illustrate the distribution of the Runtime. Please set the bin size to 10. "
      ]
    },
    {
      "cell_type": "code",
      "metadata": {
        "colab": {
          "base_uri": "https://localhost:8080/",
          "height": 295
        },
        "id": "AnvepoAH2ykc",
        "outputId": "86eb4683-2141-4ff7-bf6e-312f1b26bd57"
      },
      "source": [
        "# create histogram, with bins of size 10\n",
        "plt.hist(x=clean_movies.Runtime_Minutes, bins=range(60, 200, 10), zorder=4)\n",
        "\n",
        "# add labels and title\n",
        "plt.title(\"Distribution of runtimes for the previous decade's top 1000 movies\")\n",
        "plt.xlabel('Runtime (minutes)')\n",
        "plt.ylabel('Number of movies')\n",
        "plt.grid(axis='y', zorder=0)"
      ],
      "execution_count": 147,
      "outputs": [
        {
          "output_type": "display_data",
          "data": {
            "image/png": "[encoded data removed]",
            "text/plain": [
              "<Figure size 432x288 with 1 Axes>"
            ]
          },
          "metadata": {
            "tags": [],
            "needs_background": "light"
          }
        }
      ]
    },
    {
      "cell_type": "markdown",
      "metadata": {
        "id": "ZUF9W8GL8Cnr"
      },
      "source": [
        "**1.4**"
      ]
    },
    {
      "cell_type": "markdown",
      "metadata": {
        "id": "34DFfPvV8GXh"
      },
      "source": [
        "Rank the Directors according to their average Rating. Select the top ten Directors and draw a proper\n",
        "chart to compare their average Rating. "
      ]
    },
    {
      "cell_type": "code",
      "metadata": {
        "colab": {
          "base_uri": "https://localhost:8080/",
          "height": 664
        },
        "id": "jGV74rrE8Kv7",
        "outputId": "bfe751d5-54b4-4f18-c0a1-4893ce73a7a0"
      },
      "source": [
        "# make dataframe containing average rating for directors\n",
        "clean_movie_directors = clean_movies.groupby('Director')['Rating'].mean()\n",
        "# sort by director average rating\n",
        "clean_movie_directors = clean_movie_directors.sort_values(ascending = False)\n",
        "\n",
        "# select top 10 directors\n",
        "top_directors = clean_movie_directors.head(10)\n",
        "\n",
        "# print top ten directors\n",
        "print(top_directors)\n",
        "\n",
        "# create plot\n",
        "top_directors.plot(kind='bar', zorder=3)\n",
        "\n",
        "# add titles and labels\n",
        "plt.title(\"Top ten movie directors and their average ratings\")\n",
        "plt.xlabel('Director')\n",
        "plt.ylabel('Rating')\n",
        "\n",
        "# improve aesthetics\n",
        "plt.ylim(8.2, 8.9)\n",
        "plt.grid(axis='y', zorder=0)\n",
        "\n",
        "# show plot\n",
        "plt.show()"
      ],
      "execution_count": 148,
      "outputs": [
        {
          "output_type": "stream",
          "text": [
            "Director\n",
            "Nitesh Tiwari                       8.80\n",
            "Christopher Nolan                   8.68\n",
            "Makoto Shinkai                      8.60\n",
            "Olivier Nakache                     8.60\n",
            "Aamir Khan                          8.50\n",
            "Florian Henckel von Donnersmarck    8.50\n",
            "Naoko Yamada                        8.40\n",
            "Damien Chazelle                     8.40\n",
            "Lee Unkrich                         8.30\n",
            "S.S. Rajamouli                      8.30\n",
            "Name: Rating, dtype: float64\n"
          ],
          "name": "stdout"
        },
        {
          "output_type": "display_data",
          "data": {
            "image/png": "[encoded data removed]",
            "text/plain": [
              "<Figure size 432x288 with 1 Axes>"
            ]
          },
          "metadata": {
            "tags": [],
            "needs_background": "light"
          }
        }
      ]
    },
    {
      "cell_type": "markdown",
      "metadata": {
        "id": "3WGRy74qHAwu"
      },
      "source": [
        "**1.5**"
      ]
    },
    {
      "cell_type": "markdown",
      "metadata": {
        "id": "OkF2pU9RHDRJ"
      },
      "source": [
        "(1) Use NumPy to generate three random integers as indices. "
      ]
    },
    {
      "cell_type": "code",
      "metadata": {
        "colab": {
          "base_uri": "https://localhost:8080/"
        },
        "id": "BBYHxryPHLlm",
        "outputId": "6150d142-997e-4c06-ec70-7f9a7145f6b3"
      },
      "source": [
        "# create empty list to store indeces\n",
        "indeces = []\n",
        "# loop through 3 times to get 3 indeces\n",
        "for i in range(3):\n",
        "  indeces.append(np.random.randint(0, 1000))\n",
        "\n",
        "#print indeces\n",
        "print(indeces)"
      ],
      "execution_count": 149,
      "outputs": [
        {
          "output_type": "stream",
          "text": [
            "[653, 290, 736]\n"
          ],
          "name": "stdout"
        }
      ]
    },
    {
      "cell_type": "markdown",
      "metadata": {
        "id": "dAuh3WspIXEj"
      },
      "source": [
        "(2) Use the generated three indices to select the corresponding three Directors. "
      ]
    },
    {
      "cell_type": "code",
      "metadata": {
        "colab": {
          "base_uri": "https://localhost:8080/"
        },
        "id": "m_cTmbUEIaYh",
        "outputId": "5fac9f23-6798-4d45-c80b-4d381304c5c0"
      },
      "source": [
        "# select director of movies corresponding to the indeces\n",
        "random_directors = clean_movies.iloc[indeces][['Director']]\n",
        "\n",
        "# turn directors into list for easier analysis\n",
        "# declare empty list\n",
        "directors_list = []\n",
        "# loop through random_directors dataframe, assigning each director to list\n",
        "for i in range(len(random_directors)):\n",
        "  directors_list.append(random_directors.iloc[i,0])\n",
        "\n",
        "# show the 3 directors\n",
        "print(directors_list)"
      ],
      "execution_count": 150,
      "outputs": [
        {
          "output_type": "stream",
          "text": [
            "['Akiva Schaffer', 'Sang-ho Yeon', 'Oz Perkins']\n"
          ],
          "name": "stdout"
        }
      ]
    },
    {
      "cell_type": "markdown",
      "metadata": {
        "id": "LPVaha-cIcN4"
      },
      "source": [
        "(3) Calculate the annual Metascore of the selected three Directors. "
      ]
    },
    {
      "cell_type": "code",
      "metadata": {
        "colab": {
          "base_uri": "https://localhost:8080/"
        },
        "id": "W14nbVoSIekf",
        "outputId": "07641e24-e77d-4061-ce99-c9e3e86f1f24"
      },
      "source": [
        "# create dataframe for each direcor in driectors_list\n",
        "director0 = clean_movies[clean_movies['Director'] == directors_list[0]]\n",
        "director1 = clean_movies[clean_movies['Director'] == directors_list[1]]\n",
        "director2 = clean_movies[clean_movies['Director'] == directors_list[2]]\n",
        "\n",
        "# get metascore for each year for each director\n",
        "annual_meta0 = director0.groupby(['Year', 'Director'])[['Metascore']].mean()\n",
        "annual_meta1 = director1.groupby(['Year', 'Director'])[['Metascore']].mean()\n",
        "annual_meta2 = director2.groupby(['Year', 'Director'])[['Metascore']].mean()\n",
        "\n",
        "# show annual metascore for the 3 directors\n",
        "print(annual_meta0)\n",
        "print(\"\\n\")\n",
        "print(annual_meta1)\n",
        "print(\"\\n\")\n",
        "print(annual_meta2)"
      ],
      "execution_count": 151,
      "outputs": [
        {
          "output_type": "stream",
          "text": [
            "                     Metascore\n",
            "Year Director                 \n",
            "2016 Akiva Schaffer       68.0\n",
            "\n",
            "\n",
            "                   Metascore\n",
            "Year Director               \n",
            "2016 Sang-ho Yeon       72.0\n",
            "\n",
            "\n",
            "                 Metascore\n",
            "Year Director             \n",
            "2015 Oz Perkins       68.0\n",
            "2016 Oz Perkins       68.0\n"
          ],
          "name": "stdout"
        }
      ]
    },
    {
      "cell_type": "markdown",
      "metadata": {
        "id": "X1Cn6o9qIhAR"
      },
      "source": [
        "(4) Use three subplots to illustrate their Metascore by year. The range of the x-axis should be from\n",
        "2006 to 2016. "
      ]
    },
    {
      "cell_type": "code",
      "metadata": {
        "colab": {
          "base_uri": "https://localhost:8080/",
          "height": 760
        },
        "id": "aK6slqQ6ImK5",
        "outputId": "f2c17a64-da49-48a9-cccd-6dce00ae1f29"
      },
      "source": [
        "# set up subplot grid\n",
        "fig, (ax0, ax1, ax2) = plt.subplots(3,1, sharex=True, sharey=True, figsize=(5,10))\n",
        "\n",
        "# plot director 0\n",
        "ax0.bar(list(director0['Year'].unique()), list(annual_meta0['Metascore']))\n",
        "# add title\n",
        "ax0.set_title(directors_list[0] + \"'s annual metascores by year\")\n",
        "\n",
        "# plot director 1\n",
        "ax1.bar(list(director1['Year'].unique()), list(annual_meta1['Metascore']))\n",
        "# add title\n",
        "ax1.set_title(directors_list[1] + \"'s annual metascores by year\")\n",
        "\n",
        "# plot director 2\n",
        "ax2.bar(list(director2['Year'].unique()), list(annual_meta2['Metascore']))\n",
        "# add title\n",
        "ax2.set_title(directors_list[2] + \"'s annual metascores by year\")\n",
        "\n",
        "# improve aesthetics\n",
        "plt.tight_layout()\n",
        "ax2.set_xlabel('Year')\n",
        "ax1.set_ylabel('Mean metascore')\n",
        "# I limited axis to 2005-2017 to see bars more clearly\n",
        "ax2.set_xlim(2005, 2017)"
      ],
      "execution_count": 152,
      "outputs": [
        {
          "output_type": "execute_result",
          "data": {
            "text/plain": [
              "(2005.0, 2017.0)"
            ]
          },
          "metadata": {
            "tags": []
          },
          "execution_count": 152
        },
        {
          "output_type": "display_data",
          "data": {
            "image/png": "[encoded data removed]",
            "text/plain": [
              "<Figure size 360x720 with 3 Axes>"
            ]
          },
          "metadata": {
            "tags": [],
            "needs_background": "light"
          }
        }
      ]
    },
    {
      "cell_type": "markdown",
      "metadata": {
        "id": "yJ_b0wz2InyN"
      },
      "source": [
        "**1.6**"
      ]
    },
    {
      "cell_type": "markdown",
      "metadata": {
        "id": "cOax5bCwIn7u"
      },
      "source": [
        "Use Revenue and Metascore to select samples that satisfy some conditions (the selection should\n",
        "include three conditional operators and two logical operators). Based on the selected samples, draw\n",
        "a scatter chart to show the relationship between Revenue and Metascore. "
      ]
    },
    {
      "cell_type": "code",
      "metadata": {
        "colab": {
          "base_uri": "https://localhost:8080/",
          "height": 312
        },
        "id": "U-0Ek1XZIzK4",
        "outputId": "23268cc5-8ef8-4f65-a414-1d7ec0bbecaf"
      },
      "source": [
        "# Get mean values for metascore and revenue\n",
        "mean_revenue = float(mean_values['Revenue (Millions)'])\n",
        "mean_metascore = float(mean_values.Metascore)\n",
        "\n",
        "# Get high revenue movies at either end of metascore spectrum\n",
        "money_makers = clean_movies[(clean_movies['Revenue_Millions'] > mean_revenue) & \n",
        "             ((clean_movies['Metascore'] < mean_metascore - 20) | \n",
        "             (clean_movies['Metascore'] > mean_metascore + 20))]\n",
        "\n",
        "# scatter plot data\n",
        "ax = money_makers.plot(x='Metascore', y='Revenue_Millions', kind='scatter')\n",
        "\n",
        "# add title, labels\n",
        "ax.set_title('Revenue for highest and lowest metascore movies')\n",
        "ax.set_ylabel(\"Revenue (millions)\")\n",
        "ax.set_xlabel(\"Metascore\")"
      ],
      "execution_count": 153,
      "outputs": [
        {
          "output_type": "execute_result",
          "data": {
            "text/plain": [
              "Text(0.5, 0, 'Metascore')"
            ]
          },
          "metadata": {
            "tags": []
          },
          "execution_count": 153
        },
        {
          "output_type": "display_data",
          "data": {
            "image/png": "[encoded data removed]",
            "text/plain": [
              "<Figure size 432x288 with 1 Axes>"
            ]
          },
          "metadata": {
            "tags": [],
            "needs_background": "light"
          }
        }
      ]
    },
    {
      "cell_type": "markdown",
      "metadata": {
        "id": "LDzF_I4JI1RL"
      },
      "source": [
        "**1.7**"
      ]
    },
    {
      "cell_type": "markdown",
      "metadata": {
        "id": "eabVOaVHI7fJ"
      },
      "source": [
        "Use NumPy to generate 30 random integers from 0 to 1000. Use the generated 30 integers as indices\n",
        "and extract relative rows from the DataFrame clean_movies.\n",
        "\n",
        "Draw a chart to present the relationship between Year and Votes. Please use Year as the x-axis and\n",
        "Votes as the y-axis. The range of the x-axis should be from 2006 to 2016. \n"
      ]
    },
    {
      "cell_type": "code",
      "metadata": {
        "colab": {
          "base_uri": "https://localhost:8080/",
          "height": 366
        },
        "id": "8DdR8CifI9ZC",
        "outputId": "0b911fdf-cc8c-4d27-f14b-f4da233797b9"
      },
      "source": [
        "# create empty list to store indeces\n",
        "indeces2 = []\n",
        "# loop through 30 times to get 30 indeces\n",
        "for i in range(30):\n",
        "  indeces2.append(np.random.randint(0, 1000))\n",
        "\n",
        "#print indeces\n",
        "print(\"INDECES:\", indeces2, '\\n')\n",
        "\n",
        "# select rows in clean_movies corresponding to the indeces\n",
        "rows = clean_movies.iloc[indeces2]\n",
        "rows = rows.groupby('Year').sum()\n",
        "\n",
        "# convert votes to thousands of votes\n",
        "rows['thousands_votes'] = rows['Votes'] / 1000\n",
        "\n",
        "# plot votes against year\n",
        "ax = rows['thousands_votes'].plot()\n",
        "\n",
        "# add labels\n",
        "ax.set_title('How number of votes has changed over time')\n",
        "ax.set_ylabel(\"Thousands of votes\")\n",
        "ax.set_xlabel(\"Year\")\n",
        "\n",
        "# limit axes\n",
        "ax.set_xlim(2005.9, 2016.1)"
      ],
      "execution_count": 160,
      "outputs": [
        {
          "output_type": "stream",
          "text": [
            "INDECES: [911, 845, 35, 407, 877, 265, 806, 55, 549, 795, 599, 176, 182, 919, 476, 739, 340, 758, 42, 332, 271, 159, 824, 258, 571, 581, 895, 429, 46, 980] \n",
            "\n"
          ],
          "name": "stdout"
        },
        {
          "output_type": "execute_result",
          "data": {
            "text/plain": [
              "(2005.9, 2016.1)"
            ]
          },
          "metadata": {
            "tags": []
          },
          "execution_count": 160
        },
        {
          "output_type": "display_data",
          "data": {
            "image/png": "[encoded data removed]",
            "text/plain": [
              "<Figure size 432x288 with 1 Axes>"
            ]
          },
          "metadata": {
            "tags": [],
            "needs_background": "light"
          }
        }
      ]
    }
  ]
}