{
  "nbformat": 4,
  "nbformat_minor": 0,
  "metadata": {
    "colab": {
      "name": "20COP504_CW1",
      "provenance": [],
      "collapsed_sections": []
    },
    "kernelspec": {
      "name": "python3",
      "display_name": "Python 3"
    }
  },
  "cells": [
    {
      "cell_type": "markdown",
      "metadata": {
        "id": "oeGUY7iupO0e"
      },
      "source": [
        "# **Coursework: Programming for Data Science (20COP504)**"
      ]
    },
    {
      "cell_type": "markdown",
      "metadata": {
        "id": "lKVGGBBcpWcb"
      },
      "source": [
        "## **Coursework 1 (40%)**"
      ]
    },
    {
      "cell_type": "markdown",
      "metadata": {
        "id": "AZiuBRTUpadX"
      },
      "source": [
        "### Task 1"
      ]
    },
    {
      "cell_type": "markdown",
      "metadata": {
        "id": "g9Aciv8ip1Ad"
      },
      "source": [
        "There are some promotion activities happening in a store. You can get a 10% discount when the total_price is between £20 and £40, inclusive. If the total_price is greater than £40, you can get a 15% discount. \n",
        "\n",
        "Write a function to take a list of quantity and a list of unit price as inputs and return the discounted_price (e.g. for a 10% discount, discounted_price = total_price*(1-0.1)). \n",
        "\n",
        "Please use the following lists to test your function: quantity = [2, 4, 6], unit_price = [5, 6.99, 3.59]."
      ]
    },
    {
      "cell_type": "code",
      "metadata": {
        "colab": {
          "base_uri": "https://localhost:8080/"
        },
        "id": "_8DzCKLLp8Yw",
        "outputId": "57ffb2d0-7782-4e94-a27c-84de862e4c56"
      },
      "source": [
        "# load relevant libraries\n",
        "import numpy as np\n",
        "\n",
        "# define function to return discounted price\n",
        "def discount_price(quantity, unit_price):\n",
        "  ''' \n",
        "  function that returns discounted price for items bought in a shop\n",
        "  input 2 lists: quantity and unit_price\n",
        "  output: total cost of purchase with discount applied (float)\n",
        "  '''\n",
        "  # change lists to arrays to make mathematical operations easier\n",
        "  quantity = np.array(quantity)\n",
        "  unit_price = np.array(unit_price)\n",
        "\n",
        "  # multiply arrays to find value of each item\n",
        "  item_value = quantity * unit_price\n",
        "\n",
        "  # find total value before discount applied\n",
        "  total_value = item_value.sum()\n",
        "\n",
        "  # declare discount_price variable (the return variable)\n",
        "  discounted_price = total_value\n",
        "\n",
        "  # apply relevant discounts\n",
        "  if total_value > 40:\n",
        "    discounted_price = 0.85 * total_value\n",
        "  elif (20 <= total_value <= 40):\n",
        "    discounted_price = 0.9 * total_value\n",
        "\n",
        "  # return discounted price to 2 decimal places\n",
        "  return(round(discounted_price, 2))\n",
        "\n",
        "# test function with different inputs\n",
        "quantity1 = [2, 4, 6]\n",
        "unit_price1 = [5, 6.99, 3.59]\n",
        "print(discount_price(quantity1, unit_price1))\n",
        "print(discount_price([3, 0, 4],[1, 2, 3])) # 15 total_value\n",
        "print(discount_price([3, 10, 4],[1, 2, 3])) # 35 total_value\n",
        "print(discount_price([3, 10, 4],[11, 2, 3])) # 65 total_value\n",
        "print(discount_price([4, 2, 4],[1, 2, 3])) # 20 total_value(edge case)\n",
        "print(discount_price([4, 3, 10],[1, 2, 3])) # 40 total_value(edge case)"
      ],
      "execution_count": 173,
      "outputs": [
        {
          "output_type": "stream",
          "text": [
            "50.58\n",
            "15\n",
            "31.5\n",
            "55.25\n",
            "18.0\n",
            "36.0\n"
          ],
          "name": "stdout"
        }
      ]
    },
    {
      "cell_type": "markdown",
      "metadata": {
        "id": "zervzCaA8XIF"
      },
      "source": [
        "## Task 2\n"
      ]
    },
    {
      "cell_type": "markdown",
      "metadata": {
        "id": "3NKUCS2X8f8F"
      },
      "source": [
        "Go to LEARN--20COP504--Coursework section and download drinks.txt. drinks.txt records the\n",
        "sale status of different drinks (cappuccino, tea, espresso) over a specific date.\n",
        "\n",
        "2.1\n",
        "\n",
        "Write a program to read the drinks.txt file and calculate the total sale of each kind of drink.\n",
        "Please note that due to typo errors, the word cappuccino is sometimes recorded as cappuccin. The\n",
        "word cappuccin should be counted as cappuccino. "
      ]
    },
    {
      "cell_type": "code",
      "metadata": {
        "id": "Qdrq3gJn8l7t"
      },
      "source": [
        "# load relevant libraries\n",
        "import numpy as np\n",
        "import pandas as pd\n",
      ],
      "execution_count": 174,
      "outputs": []
    },
    {
      "cell_type": "code",
      "metadata": {
        "colab": {
          "base_uri": "https://localhost:8080/"
        },
        "id": "YL0DHYCE_dgi",
        "outputId": "982b2e00-0033-426d-d105-a4a2a4a91c38"
      },
      "source": [
        "# load and open drinks file\n",
        "drinks = open('drinks.txt', 'r')\n",
        "\n",
        "# declare empty dictionary\n",
        "word_count = dict()\n",
        "\n",
        "for line in drinks:\n",
        "  # remove newline characters\n",
        "  line = line.strip()\n",
        "  # remove spaces so that words are seperated by comma only\n",
        "  line = line.replace(' ', '')\n",
        "  # split line into its component words \n",
        "  words = line.split(\",\")\n",
        "  # loop through words in file\n",
        "  for word in words:\n",
        "    # don't count empty space as a word\n",
        "    if word == '':\n",
        "      continue\n",
        "    # if word has already been counted, add 1 to count total for this word\n",
        "    if word in word_count:\n",
        "      word_count[word] += 1\n",
        "    # if new word, add key for this word to dictionary\n",
        "    else:\n",
        "      word_count[word] = 1\n",
        "\n",
        "# combine 'cappuccin' and 'cappuccino' to one variable\n",
        "word_count['cappuccino'] = word_count['cappuccino'] + word_count['cappuccin']\n",
        "del word_count['cappuccin']\n",
        "\n",
        "# print totals for each drink\n",
        "for key in word_count: \n",
        "    print(key, \":\", word_count[key])\n",
        "\n",
        "# close drinks file\n",
        "drinks.close() "
      ],
      "execution_count": 175,
      "outputs": [
        {
          "output_type": "stream",
          "text": [
            "cappuccino : 18\n",
            "tea : 36\n",
            "espresso : 33\n"
          ],
          "name": "stdout"
        }
      ]
    },
    {
      "cell_type": "markdown",
      "metadata": {
        "id": "dx2MoSgbWtE-"
      },
      "source": [
        "2.2\n",
        "\n",
        "Draw a bar chart to illustrate the popularity of the drinks. "
      ]
    },
    {
      "cell_type": "code",
      "metadata": {
        "colab": {
          "base_uri": "https://localhost:8080/",
          "height": 295
        },
        "id": "7Z9EC9wFWwQa",
        "outputId": "832cdf69-3afe-41b0-907c-8014319fa451"
      },
      "source": [
        "# load relevant libraries\n",
        "import matplotlib.pyplot as plt\n",
        "\n",
        "# declare empty lists to store x and y values for graphs\n",
        "drinks_x = []\n",
        "count_y = []\n",
        "\n",
        "# put word_colunt values into x and y lists\n",
        "for key in word_count:\n",
        "  drinks_x.append(key)\n",
        "  count_y.append(word_count[key])\n",
        "\n",
        "# plot bar chart\n",
        "plt.bar(drinks_x, count_y, zorder=3)\n",
        "# add axes labels\n",
        "plt.xlabel(\"Drink\")\n",
        "plt.ylabel(\"Drinks sold\")\n",
        "# add title\n",
        "plt.title(\"Drink popularity\")\n",
        "# add grids\n",
        "plt.grid(axis='y', which='major', zorder=0)\n",
        "\n",
        "# display graph\n",
        "plt.show()"
      ],
      "execution_count": 176,
      "outputs": [
        {
          "output_type": "display_data",
          "data": {
            "image/png": "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\n",
            "text/plain": [
              "<Figure size 432x288 with 1 Axes>"
            ]
          },
          "metadata": {
            "tags": [],
            "needs_background": "light"
          }
        }
      ]
    },
    {
      "cell_type": "markdown",
      "metadata": {
        "id": "deEX5LErzk_S"
      },
      "source": [
        ""
      ]
    },
    {
      "cell_type": "markdown",
      "metadata": {
        "id": "I9KeIviveKT-"
      },
      "source": [
        "## Task 3 "
      ]
    },
    {
      "cell_type": "markdown",
      "metadata": {
        "id": "S7bfCKSrePLj"
      },
      "source": [
        "3.1\n",
        "\n",
        "Generate an array x with 100 random integers from 0 to 50."
      ]
    },
    {
      "cell_type": "code",
      "metadata": {
        "colab": {
          "base_uri": "https://localhost:8080/"
        },
        "id": "ZWf761b7eRPU",
        "outputId": "4ca55f46-88ef-4527-f193-bd6e4b6c29fa"
      },
      "source": [
        "# load relevant libraries\n",
        "import numpy as np\n",
        "import pandas as pd\n",
        "\n",
        "# generate an array x with 100 random integers from 0 to 50\n",
        "x = np.random.randint(50, size=100)\n",
        "\n",
        "# print array\n",
        "print(x)\n",
        "# check 100 numbers generated\n",
        "print(\"\\n\", len(x))"
      ],
      "execution_count": 177,
      "outputs": [
        {
          "output_type": "stream",
          "text": [
            "[46 10  4 13 39 36 20 18 38 37  5 36 44 28 39 41 13 20 39 47 45 36  3 16\n",
            "  9 30 20 13  4  4  9 30 46 10 27 13 28 31 39  3 45 11  1 10 11 18  9 29\n",
            " 22 22 14 34 30  4 30 32 41 14 31 12 21 36 10 20 46 20  1 19 21 32 12  5\n",
            " 42 24 17 23 41 24 10 24 48 41 30 40  9 39 20  8 18  2 10 23 38 10 31 37\n",
            "  2 37  1  2]\n",
            "\n",
            " 100\n"
          ],
          "name": "stdout"
        }
      ]
    },
    {
      "cell_type": "markdown",
      "metadata": {
        "id": "hDC5HWUThuAH"
      },
      "source": [
        "3.2\n",
        "\n",
        "Write a function named MaxFun (use for loop inside the function) to calculate the maximum value of\n",
        "array x. "
      ]
    },
    {
      "cell_type": "code",
      "metadata": {
        "colab": {
          "base_uri": "https://localhost:8080/"
        },
        "id": "NZ0hkOvchvO9",
        "outputId": "3998ab0b-2005-446b-baac-86e9b2348ea8"
      },
      "source": [
        "def MaxFun (array_x):\n",
        "  '''\n",
        "  returns the maximum value of the inputted array\n",
        "  '''\n",
        "  # declare maximum variable initialised as first element in array \n",
        "  maximum = array_x[0]\n",
        "  # loop through array\n",
        "  for number in array_x:\n",
        "    # check if each number is larger than current largest\n",
        "    if number > maximum:\n",
        "      # if current number is largest so far, set this as maximum\n",
        "      maximum = number\n",
        "  # after every element looped through, return max value\n",
        "  return (maximum)\n",
        "\n",
        "# print max value\n",
        "print(MaxFun(x))"
      ],
      "execution_count": 178,
      "outputs": [
        {
          "output_type": "stream",
          "text": [
            "48\n"
          ],
          "name": "stdout"
        }
      ]
    },
    {
      "cell_type": "markdown",
      "metadata": {
        "id": "1-dl3St0mXbK"
      },
      "source": [
        "3.3 \n",
        "\n",
        "Write a function named MinFun (use for loop inside the function) to calculate the minimum value of\n",
        "array x"
      ]
    },
    {
      "cell_type": "code",
      "metadata": {
        "colab": {
          "base_uri": "https://localhost:8080/"
        },
        "id": "2WlR9mYxmY_s",
        "outputId": "fb0f3499-51f9-4c6b-fee4-bab7a134bf87"
      },
      "source": [
        "def MinFun (array_x):\n",
        "  '''\n",
        "  returns the minimum value of the inputted array\n",
        "  '''\n",
        "  # declare minimum variable initialised as first element in array \n",
        "  minimum = array_x[0]\n",
        "  # loop through array\n",
        "  for number in array_x:\n",
        "    # check if each number is smaller than current smallest\n",
        "    if number < minimum:\n",
        "      # if current number is smallest so far, set this as minimum\n",
        "      minimum = number\n",
        "  # after every element looped through, return minimum value\n",
        "  return (minimum)\n",
        "\n",
        "# print minimum value\n",
        "print(MinFun(x))"
      ],
      "execution_count": 179,
      "outputs": [
        {
          "output_type": "stream",
          "text": [
            "1\n"
          ],
          "name": "stdout"
        }
      ]
    },
    {
      "cell_type": "markdown",
      "metadata": {
        "id": "gx9KYUKTnBcQ"
      },
      "source": [
        "3.4\n",
        "\n",
        "Normalize array x by using x_normed = (x - minimum) / (maximum-minimum)"
      ]
    },
    {
      "cell_type": "code",
      "metadata": {
        "colab": {
          "base_uri": "https://localhost:8080/"
        },
        "id": "IwGYxOD-nCnE",
        "outputId": "f6973cd9-f9c1-482a-eb18-07448f8be24c"
      },
      "source": [
        "# get min and max values\n",
        "minimum = MinFun(x)\n",
        "maximum = MaxFun(x)\n",
        "\n",
        "# find normalised values of x\n",
        "x_normed = (x - minimum) / (maximum-minimum)\n",
        "\n",
        "# print normalised values of x\n",
        "print(x_normed)"
      ],
      "execution_count": 180,
      "outputs": [
        {
          "output_type": "stream",
          "text": [
            "[0.95744681 0.19148936 0.06382979 0.25531915 0.80851064 0.74468085\n",
            " 0.40425532 0.36170213 0.78723404 0.76595745 0.08510638 0.74468085\n",
            " 0.91489362 0.57446809 0.80851064 0.85106383 0.25531915 0.40425532\n",
            " 0.80851064 0.9787234  0.93617021 0.74468085 0.04255319 0.31914894\n",
            " 0.17021277 0.61702128 0.40425532 0.25531915 0.06382979 0.06382979\n",
            " 0.17021277 0.61702128 0.95744681 0.19148936 0.55319149 0.25531915\n",
            " 0.57446809 0.63829787 0.80851064 0.04255319 0.93617021 0.21276596\n",
            " 0.         0.19148936 0.21276596 0.36170213 0.17021277 0.59574468\n",
            " 0.44680851 0.44680851 0.27659574 0.70212766 0.61702128 0.06382979\n",
            " 0.61702128 0.65957447 0.85106383 0.27659574 0.63829787 0.23404255\n",
            " 0.42553191 0.74468085 0.19148936 0.40425532 0.95744681 0.40425532\n",
            " 0.         0.38297872 0.42553191 0.65957447 0.23404255 0.08510638\n",
            " 0.87234043 0.4893617  0.34042553 0.46808511 0.85106383 0.4893617\n",
            " 0.19148936 0.4893617  1.         0.85106383 0.61702128 0.82978723\n",
            " 0.17021277 0.80851064 0.40425532 0.14893617 0.36170213 0.0212766\n",
            " 0.19148936 0.46808511 0.78723404 0.19148936 0.63829787 0.76595745\n",
            " 0.0212766  0.76595745 0.         0.0212766 ]\n"
          ],
          "name": "stdout"
        }
      ]
    },
    {
      "cell_type": "markdown",
      "metadata": {
        "id": "fKrOWz4HxGBG"
      },
      "source": [
        "## Task 4"
      ]
    },
    {
      "cell_type": "markdown",
      "metadata": {
        "id": "KZwOGj0jxHg-"
      },
      "source": [
        "4.1\n",
        "\n",
        "Create a DataFrame named dfRetail (you can create it from Dictionary, Lists or Numpy arrays). The\n",
        "DataFrame should contain five columns, including the information about product_name,\n",
        "sold_quantity, purchase_price, selling_price, and import_country. Generate data yourself for each\n",
        "column. The DataFrame must have 10 rows (representing for 10 different products). "
      ]
    },
    {
      "cell_type": "code",
      "metadata": {
        "colab": {
          "base_uri": "https://localhost:8080/",
          "height": 359
        },
        "id": "fnKRky_hxLnH",
        "outputId": "ec391b92-945b-4bf6-c6fa-1c83e6e16463"
      },
      "source": [
        "# load relevant libraries\n",
        "import numpy as np\n",
        "import pandas as pd\n",
        "\n",
        "# create list for product_name \n",
        "product_name = ['rice', 'curry_leaves', 'masoor_dal', 'mustard_seeds', \n",
        "                'fenugreek', 'peppercorns', 'chili', 'turmeric', 'oil', 'salt']\n",
        "# create list for sold_quantity (random quantities)\n",
        "sold_quantity = np.random.randint(100, size=10)\n",
        "# create list for purchase_price (random prices)\n",
        "purchase_price = np.random.rand(10)\n",
        "purchase_price = np.around(purchase_price, decimals = 2)\n",
        "# create list for selling_price (random amount of profit in each item, from 1x\n",
        "# to 2x profit)\n",
        "selling_price = purchase_price * (1 + np.random.rand(10)) \n",
        "selling_price = np.around(selling_price, decimals = 2)\n",
        "# create list for import_country\n",
        "import_country = ['England', 'France', 'Scotland', 'Wales', 'India', \n",
        "                  'Sri Lanka', 'Nepal', 'Pakistan', 'Bangladesh', 'China']\n",
        "\n",
        "# create dictionary of data\n",
        "data = {\n",
        "    'product_name': product_name,\n",
        "    'sold_quantity': sold_quantity,\n",
        "    'purchase_price': purchase_price,\n",
        "    'selling_price': selling_price,\n",
        "    'import_country': import_country\n",
        "}\n",
        "\n",
        "# create DataFrame\n",
        "dfRetail = pd.DataFrame(data)\n",
        "\n",
        "# see dataframe\n",
        "dfRetail"
      ],
      "execution_count": 181,
      "outputs": [
        {
          "output_type": "execute_result",
          "data": {
            "text/html": [
              "<div>\n",
              "<style scoped>\n",
              "    .dataframe tbody tr th:only-of-type {\n",
              "        vertical-align: middle;\n",
              "    }\n",
              "\n",
              "    .dataframe tbody tr th {\n",
              "        vertical-align: top;\n",
              "    }\n",
              "\n",
              "    .dataframe thead th {\n",
              "        text-align: right;\n",
              "    }\n",
              "</style>\n",
              "<table border=\"1\" class=\"dataframe\">\n",
              "  <thead>\n",
              "    <tr style=\"text-align: right;\">\n",
              "      <th></th>\n",
              "      <th>product_name</th>\n",
              "      <th>sold_quantity</th>\n",
              "      <th>purchase_price</th>\n",
              "      <th>selling_price</th>\n",
              "      <th>import_country</th>\n",
              "    </tr>\n",
              "  </thead>\n",
              "  <tbody>\n",
              "    <tr>\n",
              "      <th>0</th>\n",
              "      <td>rice</td>\n",
              "      <td>76</td>\n",
              "      <td>0.32</td>\n",
              "      <td>0.38</td>\n",
              "      <td>England</td>\n",
              "    </tr>\n",
              "    <tr>\n",
              "      <th>1</th>\n",
              "      <td>curry_leaves</td>\n",
              "      <td>94</td>\n",
              "      <td>0.43</td>\n",
              "      <td>0.65</td>\n",
              "      <td>France</td>\n",
              "    </tr>\n",
              "    <tr>\n",
              "      <th>2</th>\n",
              "      <td>masoor_dal</td>\n",
              "      <td>66</td>\n",
              "      <td>0.44</td>\n",
              "      <td>0.70</td>\n",
              "      <td>Scotland</td>\n",
              "    </tr>\n",
              "    <tr>\n",
              "      <th>3</th>\n",
              "      <td>mustard_seeds</td>\n",
              "      <td>27</td>\n",
              "      <td>0.86</td>\n",
              "      <td>1.22</td>\n",
              "      <td>Wales</td>\n",
              "    </tr>\n",
              "    <tr>\n",
              "      <th>4</th>\n",
              "      <td>fenugreek</td>\n",
              "      <td>56</td>\n",
              "      <td>0.01</td>\n",
              "      <td>0.02</td>\n",
              "      <td>India</td>\n",
              "    </tr>\n",
              "    <tr>\n",
              "      <th>5</th>\n",
              "      <td>peppercorns</td>\n",
              "      <td>85</td>\n",
              "      <td>0.27</td>\n",
              "      <td>0.28</td>\n",
              "      <td>Sri Lanka</td>\n",
              "    </tr>\n",
              "    <tr>\n",
              "      <th>6</th>\n",
              "      <td>chili</td>\n",
              "      <td>82</td>\n",
              "      <td>0.59</td>\n",
              "      <td>0.83</td>\n",
              "      <td>Nepal</td>\n",
              "    </tr>\n",
              "    <tr>\n",
              "      <th>7</th>\n",
              "      <td>turmeric</td>\n",
              "      <td>49</td>\n",
              "      <td>0.43</td>\n",
              "      <td>0.84</td>\n",
              "      <td>Pakistan</td>\n",
              "    </tr>\n",
              "    <tr>\n",
              "      <th>8</th>\n",
              "      <td>oil</td>\n",
              "      <td>47</td>\n",
              "      <td>0.62</td>\n",
              "      <td>0.64</td>\n",
              "      <td>Bangladesh</td>\n",
              "    </tr>\n",
              "    <tr>\n",
              "      <th>9</th>\n",
              "      <td>salt</td>\n",
              "      <td>18</td>\n",
              "      <td>0.09</td>\n",
              "      <td>0.15</td>\n",
              "      <td>China</td>\n",
              "    </tr>\n",
              "  </tbody>\n",
              "</table>\n",
              "</div>"
            ],
            "text/plain": [
              "    product_name  sold_quantity  purchase_price  selling_price import_country\n",
              "0           rice             76            0.32           0.38        England\n",
              "1   curry_leaves             94            0.43           0.65         France\n",
              "2     masoor_dal             66            0.44           0.70       Scotland\n",
              "3  mustard_seeds             27            0.86           1.22          Wales\n",
              "4      fenugreek             56            0.01           0.02          India\n",
              "5    peppercorns             85            0.27           0.28      Sri Lanka\n",
              "6          chili             82            0.59           0.83          Nepal\n",
              "7       turmeric             49            0.43           0.84       Pakistan\n",
              "8            oil             47            0.62           0.64     Bangladesh\n",
              "9           salt             18            0.09           0.15          China"
            ]
          },
          "metadata": {
            "tags": []
          },
          "execution_count": 181
        }
      ]
    },
    {
      "cell_type": "markdown",
      "metadata": {
        "id": "aIXLTuGrxZey"
      },
      "source": [
        "4.2\n",
        "\n",
        "Add a column named profit to dfRetail. profit is calculated as follows:\n",
        "\n",
        "profit = (selling_price - purchase_price) * sold_quantity.\n",
        "\n",
        "You need to accomplish this by Python code. "
      ]
    },
    {
      "cell_type": "code",
      "metadata": {
        "colab": {
          "base_uri": "https://localhost:8080/",
          "height": 359
        },
        "id": "Aeqj9fM5xdG3",
        "outputId": "ef24f3e9-bde1-4a94-cd23-fdd9cdd213a0"
      },
      "source": [
        "# create list for profit column\n",
        "profit = (selling_price - purchase_price) * sold_quantity\n",
        "# make 2dp\n",
        "profit = np.around(profit, decimals = 2)\n",
        "\n",
        "# add column to dataframe\n",
        "dfRetail['profit'] = profit\n",
        "\n",
        "# see dataframe\n",
        "dfRetail"
      ],
      "execution_count": 182,
      "outputs": [
        {
          "output_type": "execute_result",
          "data": {
            "text/html": [
              "<div>\n",
              "<style scoped>\n",
              "    .dataframe tbody tr th:only-of-type {\n",
              "        vertical-align: middle;\n",
              "    }\n",
              "\n",
              "    .dataframe tbody tr th {\n",
              "        vertical-align: top;\n",
              "    }\n",
              "\n",
              "    .dataframe thead th {\n",
              "        text-align: right;\n",
              "    }\n",
              "</style>\n",
              "<table border=\"1\" class=\"dataframe\">\n",
              "  <thead>\n",
              "    <tr style=\"text-align: right;\">\n",
              "      <th></th>\n",
              "      <th>product_name</th>\n",
              "      <th>sold_quantity</th>\n",
              "      <th>purchase_price</th>\n",
              "      <th>selling_price</th>\n",
              "      <th>import_country</th>\n",
              "      <th>profit</th>\n",
              "    </tr>\n",
              "  </thead>\n",
              "  <tbody>\n",
              "    <tr>\n",
              "      <th>0</th>\n",
              "      <td>rice</td>\n",
              "      <td>76</td>\n",
              "      <td>0.32</td>\n",
              "      <td>0.38</td>\n",
              "      <td>England</td>\n",
              "      <td>4.56</td>\n",
              "    </tr>\n",
              "    <tr>\n",
              "      <th>1</th>\n",
              "      <td>curry_leaves</td>\n",
              "      <td>94</td>\n",
              "      <td>0.43</td>\n",
              "      <td>0.65</td>\n",
              "      <td>France</td>\n",
              "      <td>20.68</td>\n",
              "    </tr>\n",
              "    <tr>\n",
              "      <th>2</th>\n",
              "      <td>masoor_dal</td>\n",
              "      <td>66</td>\n",
              "      <td>0.44</td>\n",
              "      <td>0.70</td>\n",
              "      <td>Scotland</td>\n",
              "      <td>17.16</td>\n",
              "    </tr>\n",
              "    <tr>\n",
              "      <th>3</th>\n",
              "      <td>mustard_seeds</td>\n",
              "      <td>27</td>\n",
              "      <td>0.86</td>\n",
              "      <td>1.22</td>\n",
              "      <td>Wales</td>\n",
              "      <td>9.72</td>\n",
              "    </tr>\n",
              "    <tr>\n",
              "      <th>4</th>\n",
              "      <td>fenugreek</td>\n",
              "      <td>56</td>\n",
              "      <td>0.01</td>\n",
              "      <td>0.02</td>\n",
              "      <td>India</td>\n",
              "      <td>0.56</td>\n",
              "    </tr>\n",
              "    <tr>\n",
              "      <th>5</th>\n",
              "      <td>peppercorns</td>\n",
              "      <td>85</td>\n",
              "      <td>0.27</td>\n",
              "      <td>0.28</td>\n",
              "      <td>Sri Lanka</td>\n",
              "      <td>0.85</td>\n",
              "    </tr>\n",
              "    <tr>\n",
              "      <th>6</th>\n",
              "      <td>chili</td>\n",
              "      <td>82</td>\n",
              "      <td>0.59</td>\n",
              "      <td>0.83</td>\n",
              "      <td>Nepal</td>\n",
              "      <td>19.68</td>\n",
              "    </tr>\n",
              "    <tr>\n",
              "      <th>7</th>\n",
              "      <td>turmeric</td>\n",
              "      <td>49</td>\n",
              "      <td>0.43</td>\n",
              "      <td>0.84</td>\n",
              "      <td>Pakistan</td>\n",
              "      <td>20.09</td>\n",
              "    </tr>\n",
              "    <tr>\n",
              "      <th>8</th>\n",
              "      <td>oil</td>\n",
              "      <td>47</td>\n",
              "      <td>0.62</td>\n",
              "      <td>0.64</td>\n",
              "      <td>Bangladesh</td>\n",
              "      <td>0.94</td>\n",
              "    </tr>\n",
              "    <tr>\n",
              "      <th>9</th>\n",
              "      <td>salt</td>\n",
              "      <td>18</td>\n",
              "      <td>0.09</td>\n",
              "      <td>0.15</td>\n",
              "      <td>China</td>\n",
              "      <td>1.08</td>\n",
              "    </tr>\n",
              "  </tbody>\n",
              "</table>\n",
              "</div>"
            ],
            "text/plain": [
              "    product_name  sold_quantity  ...  import_country  profit\n",
              "0           rice             76  ...         England    4.56\n",
              "1   curry_leaves             94  ...          France   20.68\n",
              "2     masoor_dal             66  ...        Scotland   17.16\n",
              "3  mustard_seeds             27  ...           Wales    9.72\n",
              "4      fenugreek             56  ...           India    0.56\n",
              "5    peppercorns             85  ...       Sri Lanka    0.85\n",
              "6          chili             82  ...           Nepal   19.68\n",
              "7       turmeric             49  ...        Pakistan   20.09\n",
              "8            oil             47  ...      Bangladesh    0.94\n",
              "9           salt             18  ...           China    1.08\n",
              "\n",
              "[10 rows x 6 columns]"
            ]
          },
          "metadata": {
            "tags": []
          },
          "execution_count": 182
        }
      ]
    },
    {
      "cell_type": "markdown",
      "metadata": {
        "id": "SQYCZCRS0IAF"
      },
      "source": [
        "4.3\n",
        "\n",
        "Identify the top five profitable products and present the information via a pie chart."
      ]
    },
    {
      "cell_type": "code",
      "metadata": {
        "colab": {
          "base_uri": "https://localhost:8080/",
          "height": 264
        },
        "id": "Ga0HxzFr0IQm",
        "outputId": "e7898ad4-77ed-4d7f-de89-99645137badb"
      },
      "source": [
        "# load relevant libraries\n",
        "import matplotlib.pyplot as plt\n",
        "\n",
        "# sort by profit\n",
        "dfRetail_sorted = dfRetail.sort_values('profit', ascending=False)\n",
        "\n",
        "# select top 5 most profitable products\n",
        "dfRetail_top = dfRetail_sorted.head(5)\n",
        "\n",
        "# explode the most profitable item\n",
        "explode = (0.1, 0, 0, 0, 0)  \n",
        "\n",
        "# make varible to show profit for each item\n",
        "labels = []\n",
        "# loop through, truning each element in list to string and adding \"£\" sign\n",
        "for i in dfRetail_top['profit']:\n",
        "  i = str(i)\n",
        "  # if only to 1dp, make to 2dp to look more like a monetary value\n",
        "  if len(i) == 4:\n",
        "    i = i + \"0\"\n",
        "  # concatenate £ sign with each element\n",
        "  i = \"£\" + i\n",
        "  labels.append(i)\n",
        "\n",
        "# make pie chart\n",
        "fig1, ax1 = plt.subplots()\n",
        "ax1.pie(dfRetail_top['profit'], labels = labels,\n",
        "        shadow=True, explode=explode, radius=1)\n",
        "ax1.legend(dfRetail_top['product_name'], loc = \"upper right\", bbox_to_anchor=(1.55, 1))\n",
        "# add title\n",
        "ax1.set_title(\"Top 5 most profitable items\")\n",
        "\n",
        "#show pie chart\n",
        "plt.show()"
      ],
      "execution_count": 183,
      "outputs": [
        {
          "output_type": "display_data",
          "data": {
            "image/png": "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\n",
            "text/plain": [
              "<Figure size 432x288 with 1 Axes>"
            ]
          },
          "metadata": {
            "tags": []
          }
        }
      ]
    }
  ]
}
